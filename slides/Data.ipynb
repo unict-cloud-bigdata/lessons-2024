{
 "cells": [
  {
   "cell_type": "markdown",
   "id": "838617f0",
   "metadata": {
    "slideshow": {
     "slide_type": "slide"
    }
   },
   "source": [
    "# Data*"
   ]
  },
  {
   "cell_type": "markdown",
   "id": "830e792a",
   "metadata": {
    "slideshow": {
     "slide_type": "slide"
    }
   },
   "source": [
    "# We live in a data World"
   ]
  },
  {
   "cell_type": "markdown",
   "id": "fd854bac",
   "metadata": {
    "slideshow": {
     "slide_type": "subslide"
    }
   },
   "source": [
    "### Internet Minute\n",
    "![](images/internet-minute-comparison.png)"
   ]
  },
  {
   "cell_type": "markdown",
   "id": "c0783b64",
   "metadata": {
    "slideshow": {
     "slide_type": "subslide"
    }
   },
   "source": [
    "## Data never sleeps\n",
    "\n",
    "![](https://marvel-b1-cdn.bc0a.com/f00000000283357/web-assets.domo.com/blog/wp-content/uploads/2023/12/23-dns11-FINAL-1-1243x2048.png)"
   ]
  },
  {
   "cell_type": "markdown",
   "id": "f619e4de",
   "metadata": {
    "slideshow": {
     "slide_type": "slide"
    }
   },
   "source": [
    "# It's a Data Revolution"
   ]
  },
  {
   "cell_type": "markdown",
   "id": "3f690230",
   "metadata": {
    "slideshow": {
     "slide_type": "subslide"
    }
   },
   "source": [
    "## From 4.0: The Information Age"
   ]
  },
  {
   "cell_type": "markdown",
   "id": "fc41ff5f",
   "metadata": {
    "cell_style": "split",
    "slideshow": {
     "slide_type": "fragment"
    }
   },
   "source": [
    "> In essence, the Fourth Industrial Revolution is the trend towards automation and data exchange in manufacturing technologies and processes which include cyber-physical systems (CPS), IoT, industrial internet of things,cloud computing,cognitive computing, and artificial intelligence.\n",
    "\n",
    "https://en.wikipedia.org/wiki/Fourth_Industrial_Revolution"
   ]
  },
  {
   "cell_type": "markdown",
   "id": "1f514bc8",
   "metadata": {
    "cell_style": "split",
    "slideshow": {
     "slide_type": "fragment"
    }
   },
   "source": [
    "![Industry 4.0](images/industry40.png)"
   ]
  },
  {
   "cell_type": "markdown",
   "id": "a431c203",
   "metadata": {
    "slideshow": {
     "slide_type": "subslide"
    }
   },
   "source": [
    "# to the Imagination Age"
   ]
  },
  {
   "cell_type": "markdown",
   "id": "29b3ef82",
   "metadata": {
    "cell_style": "split",
    "slideshow": {
     "slide_type": "fragment"
    }
   },
   "source": [
    "![](https://kajabi-storefronts-production.kajabi-cdn.com/kajabi-storefronts-production/blogs/22163/images/MnaQX7wsS9izW4Xuzjyw_Screenshot_2021-11-25_at_20.47.15.png) \n",
    "\n",
    "\n",
    "https://www.creativitywakeup.com/blog/imagination_age"
   ]
  },
  {
   "cell_type": "markdown",
   "id": "a21ebf96",
   "metadata": {
    "cell_style": "split",
    "slideshow": {
     "slide_type": "fragment"
    }
   },
   "source": [
    "![](https://i.imgflip.com/6cxtuz.gif)\n",
    "\n",
    "[NicsMeme](https://imgflip.com/gif/6cxtuz)"
   ]
  },
  {
   "cell_type": "markdown",
   "id": "8e3dac5e",
   "metadata": {
    "slideshow": {
     "slide_type": "subslide"
    }
   },
   "source": [
    "## towards Industry 5.0"
   ]
  },
  {
   "cell_type": "markdown",
   "id": "7e5eb090",
   "metadata": {
    "cell_style": "split",
    "slideshow": {
     "slide_type": "fragment"
    }
   },
   "source": [
    "> The Industry of the Future approach brings benefits for industry, for workers and for society.\n",
    "It empowers workers, as well as addresses the evolving skills and training needs of employees. It increases the competitiveness of industry and helps attract the best talents.\n",
    "\n",
    "https://research-and-innovation.ec.europa.eu/research-area/industrial-research-and-innovation/industry-50_en"
   ]
  },
  {
   "cell_type": "markdown",
   "id": "67035b4f",
   "metadata": {
    "cell_style": "split",
    "slideshow": {
     "slide_type": "fragment"
    }
   },
   "source": [
    "![](images/industry50.png)"
   ]
  },
  {
   "cell_type": "markdown",
   "id": "4666187d",
   "metadata": {
    "slideshow": {
     "slide_type": "slide"
    }
   },
   "source": [
    "# What is data ?"
   ]
  },
  {
   "cell_type": "markdown",
   "id": "a8cd959d",
   "metadata": {
    "slideshow": {
     "slide_type": "subslide"
    }
   },
   "source": [
    "> The Latin word data is the plural of datum, \"(thing) given\", neuter past participle of dare, \"to give\". \n",
    "The first English use of the word \"data\" is from the 1640s. \n",
    "The word \"data\" was first used to mean \"transmissible and storable computer information\" in 1946. \n",
    "The expression \"data processing\" was first used in 1954.\n",
    "\n",
    "https://en.wikipedia.org/wiki/Data"
   ]
  },
  {
   "cell_type": "markdown",
   "id": "083eea36",
   "metadata": {
    "cell_style": "split",
    "slideshow": {
     "slide_type": "subslide"
    }
   },
   "source": [
    "**data**\n",
    "\n",
    "> **Information**, especially facts or numbers, collected to be examined and considered and used to help decision-making, or **information** in an electronic form that can be stored and used by a computer\n",
    "\n",
    "https://dictionary.cambridge.org/dictionary/english/data\n"
   ]
  },
  {
   "cell_type": "markdown",
   "id": "c186d225",
   "metadata": {
    "cell_style": "split",
    "slideshow": {
     "slide_type": "fragment"
    }
   },
   "source": [
    "**information**\n",
    "\n",
    "> facts about a situation, person, event, etc.:\n",
    "\n",
    "https://dictionary.cambridge.org/dictionary/english/information"
   ]
  },
  {
   "cell_type": "markdown",
   "id": "e81519fe",
   "metadata": {
    "slideshow": {
     "slide_type": "subslide"
    }
   },
   "source": [
    "## The Key Differences Between Data vs Information\n",
    "https://bloomfire.com/blog/data-vs-information/"
   ]
  },
  {
   "cell_type": "markdown",
   "id": "85e52121",
   "metadata": {
    "slideshow": {
     "slide_type": "fragment"
    }
   },
   "source": [
    "- Data is a collection of facts, while information puts those facts into context."
   ]
  },
  {
   "cell_type": "markdown",
   "id": "dff6a863",
   "metadata": {
    "slideshow": {
     "slide_type": "fragment"
    }
   },
   "source": [
    "- While data is raw and unorganized, information is organized."
   ]
  },
  {
   "cell_type": "markdown",
   "id": "0b435544",
   "metadata": {
    "slideshow": {
     "slide_type": "fragment"
    }
   },
   "source": [
    "- Data points are individual and sometimes unrelated. Information maps out that data to provide a big-picture view of how it all fits together."
   ]
  },
  {
   "cell_type": "markdown",
   "id": "b33bcc22",
   "metadata": {
    "slideshow": {
     "slide_type": "fragment"
    }
   },
   "source": [
    "- Data, on its own, is meaningless. When it’s analyzed and interpreted, it becomes meaningful information. "
   ]
  },
  {
   "cell_type": "markdown",
   "id": "2fdbe4a7",
   "metadata": {
    "slideshow": {
     "slide_type": "fragment"
    }
   },
   "source": [
    "- Data does not depend on information; however, information depends on data."
   ]
  },
  {
   "cell_type": "markdown",
   "id": "27d5823e",
   "metadata": {
    "slideshow": {
     "slide_type": "fragment"
    }
   },
   "source": [
    "- Data typically comes in the form of graphs, numbers, figures, or statistics. Information is typically presented through words, language, thoughts, and ideas."
   ]
  },
  {
   "cell_type": "markdown",
   "id": "4377fe72",
   "metadata": {
    "slideshow": {
     "slide_type": "fragment"
    }
   },
   "source": [
    "- Data isn’t sufficient for decision-making, but you can make decisions based on information."
   ]
  },
  {
   "cell_type": "markdown",
   "id": "481c5ad3",
   "metadata": {
    "cell_style": "center",
    "slideshow": {
     "slide_type": "subslide"
    }
   },
   "source": [
    "## Data  -> Information\n",
    "**data** is **information** stored that can be analyzed in a specific context to get the same or new information"
   ]
  },
  {
   "cell_type": "markdown",
   "id": "fe38dcad",
   "metadata": {
    "cell_style": "split",
    "slideshow": {
     "slide_type": "subslide"
    }
   },
   "source": [
    "Let's do some example together. \n",
    "\n",
    "Suppose we find a notebook with:\n",
    "\n",
    "\n",
    "|       |    |\n",
    "|  ---  | ---|\n",
    "| Alice | 10 |\n",
    "|       |    |\n",
    "\n",
    "\n",
    "\n",
    "```Alice``` and ```10``` are data"
   ]
  },
  {
   "cell_type": "markdown",
   "id": "51e44bc2",
   "metadata": {
    "cell_style": "split",
    "slideshow": {
     "slide_type": "fragment"
    }
   },
   "source": [
    "We need some context (or metadata) to understand what these data means, it could be:"
   ]
  },
  {
   "cell_type": "markdown",
   "id": "dc1aeae9",
   "metadata": {
    "cell_style": "split",
    "slideshow": {
     "slide_type": "fragment"
    }
   },
   "source": [
    "- Alice has 10 years;"
   ]
  },
  {
   "cell_type": "markdown",
   "id": "f8018b92",
   "metadata": {
    "cell_style": "split",
    "slideshow": {
     "slide_type": "fragment"
    }
   },
   "source": [
    "- Alice has 10$ in the wallet"
   ]
  },
  {
   "cell_type": "markdown",
   "id": "a8abd5e8",
   "metadata": {
    "slideshow": {
     "slide_type": "subslide"
    }
   },
   "source": [
    "## Qualitative vs Qualitative"
   ]
  },
  {
   "cell_type": "markdown",
   "id": "1d9a684d",
   "metadata": {
    "cell_style": "split",
    "slideshow": {
     "slide_type": "fragment"
    }
   },
   "source": [
    "**Quantitative** data is numeric.\n",
    "\n",
    "Measures peoples, things and events.\n",
    "\n",
    "Can be integer, float. Data\n",
    "\n",
    "Operations: It's possible to sum, compute max, min, avg"
   ]
  },
  {
   "cell_type": "markdown",
   "id": "19f51065",
   "metadata": {
    "cell_style": "split",
    "slideshow": {
     "slide_type": "fragment"
    }
   },
   "source": [
    "**Qualitative** data include descriptions, like name, surname, address or product name\n",
    "\n",
    "May be associated with numeric information such as price or age.\n",
    "\n",
    "It's normally a text, can be a categorical value or a description\n",
    "\n",
    "Operations: It's possible to count"
   ]
  },
  {
   "cell_type": "markdown",
   "id": "e51ca947",
   "metadata": {
    "slideshow": {
     "slide_type": "subslide"
    }
   },
   "source": [
    "### Time is both quantitative and qualitative data"
   ]
  },
  {
   "cell_type": "markdown",
   "id": "dd91814a",
   "metadata": {
    "slideshow": {
     "slide_type": "fragment"
    }
   },
   "source": [
    "Chat Gpt response:\n",
    "\n",
    "> The answer to your question is not straightforward. Time can be both quantitative and qualitative depending on the context in which it is used \n",
    "In general, time is considered a quantitative data type because it can be measured and expressed numerically, such as in seconds, minutes, hours, days, weeks, months, or years. For example, the duration of a movie can be expressed in minutes, and the time it takes to complete a task can be expressed in hours.\n",
    "However, time can also be considered qualitative when it is used to describe a subjective experience or a phenomenon that cannot be measured precisely. For example, the phrase “time flies when you’re having fun” is a qualitative expression that describes the subjective experience of time passing quickly when one is enjoying oneself\n",
    "\n",
    "\n"
   ]
  },
  {
   "cell_type": "markdown",
   "id": "346414f8",
   "metadata": {
    "slideshow": {
     "slide_type": "slide"
    }
   },
   "source": [
    "## Data Types"
   ]
  },
  {
   "cell_type": "markdown",
   "id": "3e5b374f",
   "metadata": {
    "slideshow": {
     "slide_type": "subslide"
    }
   },
   "source": [
    "## ISO 11404:2007 Information Technlogy - General purpose datatypes\n",
    "http://standards.iso.org/ittf/PubliclyAvailableStandards/c039479_ISO_IEC_11404_2007(E).zip\n"
   ]
  },
  {
   "cell_type": "markdown",
   "id": "c72ccbdc",
   "metadata": {
    "slideshow": {
     "slide_type": "subslide"
    }
   },
   "source": [
    "Three notions of datatype:"
   ]
  },
  {
   "cell_type": "markdown",
   "id": "8bdada84",
   "metadata": {
    "slideshow": {
     "slide_type": "fragment"
    }
   },
   "source": [
    "- the conceptual, or abstract, notion of a datatype, which characterizes the datatype by its nominal values\n",
    "and properties;"
   ]
  },
  {
   "cell_type": "markdown",
   "id": "552e1304",
   "metadata": {
    "slideshow": {
     "slide_type": "fragment"
    }
   },
   "source": [
    "- the structural notion of a datatype, which characterizes the datatype as a conceptual organization of\n",
    "specific component datatypes with specific functionalities;"
   ]
  },
  {
   "cell_type": "markdown",
   "id": "cb77264a",
   "metadata": {
    "slideshow": {
     "slide_type": "fragment"
    }
   },
   "source": [
    "- the implementation notion of a datatype, which characterizes the datatype by defining the rules for\n",
    "representation of the datatype in a given environment."
   ]
  },
  {
   "cell_type": "markdown",
   "id": "4ed07f2b",
   "metadata": {
    "slideshow": {
     "slide_type": "subslide"
    }
   },
   "source": [
    "### Numeric vs Non Numeric\n",
    "A datatype is said to be numeric if its values are conceptually quantities (in some mathematical number\n",
    "system). A datatype whose values do not have this property is said to be non-numeric."
   ]
  },
  {
   "cell_type": "markdown",
   "id": "d3142a8c",
   "metadata": {
    "slideshow": {
     "slide_type": "subslide"
    }
   },
   "source": [
    "### Primitive vs Non primivite"
   ]
  },
  {
   "cell_type": "markdown",
   "id": "bcdc793b",
   "metadata": {
    "cell_style": "split",
    "slideshow": {
     "slide_type": "fragment"
    }
   },
   "source": [
    "- **primitive** datatypes, which are defined axiomatically without reference to other datatypes\n",
    "\n",
    "- Atomic: not divisible\n",
    "\n",
    "- Examples: boolean, integer, time, enumerate, char,  varchar"
   ]
  },
  {
   "cell_type": "markdown",
   "id": "c247ba3b",
   "metadata": {
    "cell_style": "split",
    "slideshow": {
     "slide_type": "fragment"
    }
   },
   "source": [
    "- **generated** datatypes, which are specified, and partly defined, in terms of other datatypes.\n",
    "- aggregate: values organized for a specif function\n",
    "- Examples: array, bag, sequence, xml, json "
   ]
  },
  {
   "cell_type": "markdown",
   "id": "bb7a7309",
   "metadata": {
    "slideshow": {
     "slide_type": "slide"
    }
   },
   "source": [
    "# Big Data"
   ]
  },
  {
   "cell_type": "markdown",
   "id": "5ac8b6f7",
   "metadata": {
    "slideshow": {
     "slide_type": "subslide"
    }
   },
   "source": [
    "> “Big data is like teenage sex; everyone talks about it, nobody really knows how to do it, everyone thinks everyone else is doing it, so everyone claims they are doing it.” (Dan Ariely, American Professor)\n",
    "\n",
    "https://towardsdatascience.com/top-15-famous-data-science-quotes-f2e010b8d214"
   ]
  },
  {
   "cell_type": "markdown",
   "id": "6fe4491d",
   "metadata": {
    "slideshow": {
     "slide_type": "subslide"
    }
   },
   "source": [
    "## What is Big Data ?"
   ]
  },
  {
   "cell_type": "markdown",
   "id": "784a8ac7",
   "metadata": {
    "slideshow": {
     "slide_type": "subslide"
    }
   },
   "source": [
    "### A market perspective"
   ]
  },
  {
   "cell_type": "markdown",
   "id": "d2c29b68",
   "metadata": {
    "slideshow": {
     "slide_type": "fragment"
    }
   },
   "source": [
    "Revenue from big data and business analytics worldwide from 2015 to 2022 (Statista - IDC)\n",
    "![](images/Statista2023-BigDataBusiness.png)\n",
    "\n",
    "https://www.statista.com/statistics/551501/worldwide-big-data-business-analytics-revenue/"
   ]
  },
  {
   "cell_type": "markdown",
   "id": "b6ad27b4",
   "metadata": {
    "slideshow": {
     "slide_type": "subslide"
    }
   },
   "source": [
    "# Big data is better data\n",
    "\n",
    "[▶![](http://img.youtube.com/vi/8pHzROP1D-w/0.jpg)](https://www.youtube.com/watch?v=8pHzROP1D-w&start=113)"
   ]
  },
  {
   "cell_type": "markdown",
   "id": "984d7427",
   "metadata": {
    "slideshow": {
     "slide_type": "subslide"
    }
   },
   "source": [
    "# The Book of Why\n",
    "![](https://upload.wikimedia.org/wikipedia/en/3/38/The_Book_of_Why.jpg)"
   ]
  },
  {
   "cell_type": "markdown",
   "id": "dede7aa1",
   "metadata": {
    "cell_style": "split",
    "slideshow": {
     "slide_type": "subslide"
    }
   },
   "source": [
    "> Data can tell you that the people who took a medicine recovered faster than those who did not take it, but they can’t tell you why. Maybe those who took the medicine did so because they could afford it and would have recovered just as fast without it."
   ]
  },
  {
   "cell_type": "markdown",
   "id": "644bbc93",
   "metadata": {
    "cell_style": "split",
    "slideshow": {
     "slide_type": "fragment"
    }
   },
   "source": [
    "![](images/ThebookofWhy-inference-engine.png)"
   ]
  },
  {
   "cell_type": "markdown",
   "id": "c83fa385",
   "metadata": {
    "slideshow": {
     "slide_type": "slide"
    }
   },
   "source": [
    "# V for ?"
   ]
  },
  {
   "cell_type": "markdown",
   "id": "6e11b5fe",
   "metadata": {
    "slideshow": {
     "slide_type": "subslide"
    }
   },
   "source": [
    "## Volume"
   ]
  },
  {
   "cell_type": "markdown",
   "id": "5c9d7273",
   "metadata": {
    "cell_style": "split",
    "slideshow": {
     "slide_type": "fragment"
    }
   },
   "source": [
    "From day one, the Zettabyte has been a benchmark that our analysts have targeted as a major networking milestone.\n",
    "\n",
    "When will global Internet traffic reach an annual run rate of one Zettabyte? Well, that day has finally come. According to our estimate, the world’s collective Internet use will reach the Zettabyte threshold for this calendar year on September 9, 2016\n",
    "\n",
    "https://blogs.cisco.com/sp/the-zettabyte-era-officially-begins-how-much-is-that"
   ]
  },
  {
   "cell_type": "markdown",
   "id": "cbe8e1b9",
   "metadata": {
    "cell_style": "split",
    "slideshow": {
     "slide_type": "fragment"
    }
   },
   "source": [
    "Volume of data/information created, captured, copied, and consumed worldwide from 2010 to 2020, with forecasts from 2021 to 2025 (in zettabytes)\n",
    "\n",
    "![](images/Statista2023-VolumeData2021-2025.png)\n",
    "https://www.statista.com/statistics/871513/worldwide-data-created/"
   ]
  },
  {
   "cell_type": "markdown",
   "id": "0da0c27e",
   "metadata": {
    "slideshow": {
     "slide_type": "subslide"
    }
   },
   "source": [
    "![](https://img-9gag-fun.9cache.com/photo/a318ez1_460swp.webp)\n",
    "​\n",
    "https://www.reddit.com/r/196/comments/uonbxf/rulezip/"
   ]
  },
  {
   "cell_type": "markdown",
   "id": "811bdb93",
   "metadata": {
    "slideshow": {
     "slide_type": "subslide"
    }
   },
   "source": [
    "## Velocity"
   ]
  },
  {
   "cell_type": "markdown",
   "id": "41b0c332",
   "metadata": {
    "cell_style": "split",
    "slideshow": {
     "slide_type": "fragment"
    }
   },
   "source": [
    "In contrast, data growth shows no sign of stopping. The ongoing explosion of data will result in approximately 40 trillion gigabytes (or 40 zettabytes) in 2020 alone. That’s 1.7MB of data created every second for every person on earth.\n",
    "\n",
    "https://www.ibm.com/blogs/journey-to-ai/2020/06/netezza-and-ibm-cloud-pak-a-knockout-combo-for-tough-data/\n",
    "\n",
    "https://www.forbes.com/sites/brentdykes/2017/06/28/big-data-forget-volume-and-variety-focus-on-velocity/?sh=e9e8b906f7d6"
   ]
  },
  {
   "cell_type": "markdown",
   "id": "cd2d3435",
   "metadata": {
    "cell_style": "split",
    "slideshow": {
     "slide_type": "fragment"
    }
   },
   "source": [
    "![](https://www.highspeedinternet.com/app/uploads/2022/12/HSI_UPDATED_12-14-What-is-6G-Internet.png)\n",
    "\n",
    "https://www.highspeedinternet.com/resources/6g-internet"
   ]
  },
  {
   "cell_type": "markdown",
   "id": "3241cd68",
   "metadata": {
    "slideshow": {
     "slide_type": "subslide"
    }
   },
   "source": [
    "![](https://i.imgflip.com/7e6nwz.jpg)\n",
    "[NicsMeme](https://imgflip.com/i/7e6nwz)"
   ]
  },
  {
   "cell_type": "markdown",
   "id": "de1f5a04",
   "metadata": {
    "slideshow": {
     "slide_type": "subslide"
    }
   },
   "source": [
    "## Variety"
   ]
  },
  {
   "cell_type": "markdown",
   "id": "8b990c91",
   "metadata": {
    "cell_style": "split",
    "slideshow": {
     "slide_type": "fragment"
    }
   },
   "source": [
    "Variety refers to the complexity of data formats. Big data consists of different forms of data. For example, when a telecommunications company like Telstra records data on calls to its call centre, this data includes both:\n",
    "\n",
    "- structured data, which conforms to a predefined data model (e.g., your customer ID, the timestamp of your call, your service type), and\n",
    "- unstructured data (e.g., the recording of the call, notes that the call centre operator makes during the call, the problem history related to your call).\n",
    "\n",
    "https://www.futurelearn.com/info/courses/applied-big-data-analytics/0/steps/52404"
   ]
  },
  {
   "cell_type": "markdown",
   "id": "5a822114",
   "metadata": {
    "cell_style": "split",
    "slideshow": {
     "slide_type": "fragment"
    }
   },
   "source": [
    "![](https://miro.medium.com/v2/resize:fit:1400/0*suBDwJiElP7O2TDa)\n",
    "\n",
    "https://towardsdatascience.com/big-data-file-formats-explained-dfaabe9e8b33"
   ]
  },
  {
   "cell_type": "markdown",
   "id": "c9f6ef52",
   "metadata": {
    "slideshow": {
     "slide_type": "subslide"
    }
   },
   "source": [
    "![](https://preview.redd.it/w64avutj1k921.jpg?width=640&crop=smart&auto=webp&v=enabled&s=9191e4b94a21abef0f3ecb9edd7c94d03b85550f)\n",
    "\n",
    "https://www.reddit.com/r/ProgrammerHumor/comments/aehe8q/perfect_date/"
   ]
  },
  {
   "cell_type": "markdown",
   "id": "0955d463",
   "metadata": {
    "slideshow": {
     "slide_type": "subslide"
    }
   },
   "source": [
    "# and counting...\n",
    "\n",
    "The 17 V’s Of Big Data https://www.irjet.net/archives/V4/i9/IRJET-V4I957.pdf"
   ]
  },
  {
   "cell_type": "markdown",
   "id": "8bfba75d",
   "metadata": {
    "slideshow": {
     "slide_type": "subslide"
    }
   },
   "source": [
    "### 4V \n",
    "\n",
    "Oracle added Veracity\n",
    "![](images/4v.png)"
   ]
  },
  {
   "cell_type": "markdown",
   "id": "48a76407",
   "metadata": {
    "slideshow": {
     "slide_type": "subslide"
    }
   },
   "source": [
    "![](https://uwex.wisconsin.edu/wp-content/uploads/2015/05/4-Vs-of-big-data-2048x1258.jpg)\n",
    "https://uwex.wisconsin.edu/stories-news/what-is-big-data/"
   ]
  },
  {
   "cell_type": "markdown",
   "id": "240aaed8",
   "metadata": {
    "slideshow": {
     "slide_type": "subslide"
    }
   },
   "source": [
    "### 5V\n",
    "Oguntimilehin added Value\n",
    "![](https://www.edureka.co/blog/wp-content/uploads/2018/06/Five-Vs-of-Big-Data-What-is-Big-Data-Edureka.png)"
   ]
  },
  {
   "cell_type": "markdown",
   "id": "c1a1d4bb",
   "metadata": {
    "slideshow": {
     "slide_type": "subslide"
    }
   },
   "source": [
    "### 10V\n",
    "In 2014, Data Science Central, Kirk Born has defined big data in 10 V’s \n",
    "![](images/5v.png)"
   ]
  },
  {
   "cell_type": "markdown",
   "id": "e8f57d79",
   "metadata": {
    "slideshow": {
     "slide_type": "subslide"
    }
   },
   "source": [
    "## 17V\n",
    "![](images/17V.jpg)"
   ]
  },
  {
   "cell_type": "markdown",
   "id": "0d28bd46",
   "metadata": {
    "slideshow": {
     "slide_type": "subslide"
    }
   },
   "source": [
    "# Big Data Landscape\n",
    "![](http://mattturck.wpenginepowered.com/wp-content/uploads/2021/12/Data-and-AI-Landscape-2021-v3-small.jpg)"
   ]
  },
  {
   "cell_type": "markdown",
   "id": "3a8544cb",
   "metadata": {
    "slideshow": {
     "slide_type": "subslide"
    }
   },
   "source": [
    "# Big Data in real world...\n",
    "![](https://i.imgflip.com/7emx26.jpg)"
   ]
  },
  {
   "cell_type": "markdown",
   "id": "fe9debe8",
   "metadata": {
    "slideshow": {
     "slide_type": "subslide"
    }
   },
   "source": [
    "https://www.mckinsey.com/capabilities/growth-marketing-and-sales/our-insights/insights-to-impact-creating-and-sustaining-data-driven-commercial-growth\n",
    "![](https://www.mckinsey.com/~/media/mckinsey/business%20functions/marketing%20and%20sales/our%20insights/insights%20to%20impact%20creating%20and%20sustaining%20data%20driven%20commercial%20growth/svg-insights-impact-exhibit-1.svgz?cq=50&cpy=Center)"
   ]
  },
  {
   "cell_type": "markdown",
   "id": "5ecfbd04",
   "metadata": {
    "slideshow": {
     "slide_type": "subslide"
    }
   },
   "source": [
    "![](https://www.mckinsey.com/~/media/mckinsey/business%20functions/marketing%20and%20sales/our%20insights/insights%20to%20impact%20creating%20and%20sustaining%20data%20driven%20commercial%20growth/svg-insights-impact-exhibit-2.svgz?cq=50&cpy=Center)"
   ]
  },
  {
   "cell_type": "markdown",
   "id": "f1e1e7bc",
   "metadata": {
    "slideshow": {
     "slide_type": "subslide"
    }
   },
   "source": [
    "## In real world\n",
    "https://www.tableau.com/learn/articles/big-data-examples-use-cases"
   ]
  },
  {
   "cell_type": "markdown",
   "id": "7b1dfc76",
   "metadata": {
    "slideshow": {
     "slide_type": "subslide"
    }
   },
   "source": [
    "## Future ?\n",
    "[▶![](https://img.youtube.com/vi/4SmJP8TdWTU/0.jpg)](https://www.youtube.com/watch?v=4SmJP8TdWTU)"
   ]
  }
 ],
 "metadata": {
  "celltoolbar": "Slideshow",
  "kernelspec": {
   "display_name": "Python 3 (ipykernel)",
   "language": "python",
   "name": "python3"
  },
  "language_info": {
   "codemirror_mode": {
    "name": "ipython",
    "version": 3
   },
   "file_extension": ".py",
   "mimetype": "text/x-python",
   "name": "python",
   "nbconvert_exporter": "python",
   "pygments_lexer": "ipython3",
   "version": "3.10.12"
  },
  "rise": {
   "autolaunch": true,
   "enable_chalkboard": "true",
   "footer": "<div class=\"tswd-footer\"> *** Cloud Computing and Big Data - 2023 ***</div>",
   "header": "<div class=\"tswd-header\"></div>",
   "scroll": true,
   "theme": "white"
  }
 },
 "nbformat": 4,
 "nbformat_minor": 5
}
