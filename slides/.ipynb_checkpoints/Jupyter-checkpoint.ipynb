{
 "cells": [
  {
   "cell_type": "markdown",
   "id": "d0e72b18",
   "metadata": {
    "slideshow": {
     "slide_type": "slide"
    }
   },
   "source": [
    "# Jupyter"
   ]
  },
  {
   "cell_type": "markdown",
   "id": "f7492f1b",
   "metadata": {
    "slideshow": {
     "slide_type": "slide"
    }
   },
   "source": [
    "# What is Jupyter ?"
   ]
  },
  {
   "cell_type": "markdown",
   "id": "5c672605",
   "metadata": {
    "cell_style": "split",
    "slideshow": {
     "slide_type": "fragment"
    }
   },
   "source": [
    "> Free software, open standards, and web services for interactive computing across all programming languages\n",
    "\n",
    "https://jupyter.org/"
   ]
  },
  {
   "cell_type": "markdown",
   "id": "6402a2fb",
   "metadata": {
    "cell_style": "split",
    "slideshow": {
     "slide_type": "fragment"
    }
   },
   "source": [
    "![](images/jupyter.png)\n",
    "Jupyter Logo Background "
   ]
  },
  {
   "cell_type": "markdown",
   "id": "dff282fb",
   "metadata": {
    "slideshow": {
     "slide_type": "subslide"
    }
   },
   "source": [
    "## History"
   ]
  },
  {
   "cell_type": "markdown",
   "id": "75807d17",
   "metadata": {
    "cell_style": "split",
    "slideshow": {
     "slide_type": "fragment"
    }
   },
   "source": [
    "Project Jupyter is a non-profit, open-source project, born out of the IPython Project in 2014 as it evolved to support interactive data science and scientific computing across all programming languages. Jupyter will always be 100% open-source software, free for all to use"
   ]
  },
  {
   "cell_type": "markdown",
   "id": "09e0e589",
   "metadata": {
    "cell_style": "split",
    "slideshow": {
     "slide_type": "fragment"
    }
   },
   "source": [
    "The **name** is refers to first three programming language supported (Julia, Python, R)\n",
    "\n",
    "The **logo** is the Jupiter planet with its main moons representing the 3 language\n",
    "\n",
    "It's a tribute to Galileo"
   ]
  },
  {
   "cell_type": "markdown",
   "id": "c2cef9af",
   "metadata": {
    "slideshow": {
     "slide_type": "subslide"
    }
   },
   "source": [
    "![](images/GalileoJupyterNotebook.png)"
   ]
  },
  {
   "cell_type": "markdown",
   "id": "11778805",
   "metadata": {
    "slideshow": {
     "slide_type": "subslide"
    }
   },
   "source": [
    "## Impacts"
   ]
  },
  {
   "cell_type": "markdown",
   "id": "85059ab1",
   "metadata": {
    "cell_style": "split",
    "slideshow": {
     "slide_type": "fragment"
    },
    "tags": []
   },
   "source": [
    "In 2021, Nature added iPy as one \n",
    "the \"Ten computer code that transfored science\"\n",
    "https://www.nature.com/articles/d41586-021-00075-2\n",
    "\n",
    "![](images/nature.png)"
   ]
  },
  {
   "cell_type": "markdown",
   "id": "7659e52a",
   "metadata": {
    "cell_style": "split",
    "slideshow": {
     "slide_type": "fragment"
    }
   },
   "source": [
    "![](images/nature2.png)"
   ]
  },
  {
   "cell_type": "markdown",
   "id": "ff4d9033",
   "metadata": {
    "slideshow": {
     "slide_type": "slide"
    }
   },
   "source": [
    "# Juypter Notebooks\n",
    "https://jupyter-notebook.readthedocs.io/"
   ]
  },
  {
   "cell_type": "markdown",
   "id": "2f714466",
   "metadata": {
    "cell_style": "center",
    "slideshow": {
     "slide_type": "subslide"
    }
   },
   "source": [
    "## Components of Jupyter Notebooks"
   ]
  },
  {
   "cell_type": "markdown",
   "id": "19387f05",
   "metadata": {
    "cell_style": "center",
    "slideshow": {
     "slide_type": "fragment"
    }
   },
   "source": [
    "- **Notebook web application**: An interactive web application for writing and running code interactively and authoring notebook documents."
   ]
  },
  {
   "cell_type": "markdown",
   "id": "0336d220",
   "metadata": {
    "slideshow": {
     "slide_type": "fragment"
    }
   },
   "source": [
    "- **Kernels**: Separate processes started by the notebook web application that runs users’ code in a given language and returns output back to the notebook web application."
   ]
  },
  {
   "cell_type": "markdown",
   "id": "93d3a6ed",
   "metadata": {
    "slideshow": {
     "slide_type": "fragment"
    }
   },
   "source": [
    "- **Notebook documents**: Self-contained documents that contain a representation of all content visible in the notebook web application, including inputs and outputs of the computations, narrative text, equations, images, and rich media representations of objects."
   ]
  },
  {
   "cell_type": "markdown",
   "id": "95d4861a",
   "metadata": {
    "slideshow": {
     "slide_type": "subslide"
    }
   },
   "source": [
    "#### Component diagram\n",
    "![](images/notebook_components.png)"
   ]
  },
  {
   "cell_type": "markdown",
   "id": "754c0ccf",
   "metadata": {
    "slideshow": {
     "slide_type": "subslide"
    }
   },
   "source": [
    "### The notebook web application"
   ]
  },
  {
   "cell_type": "markdown",
   "id": "d706db12",
   "metadata": {
    "slideshow": {
     "slide_type": "subslide"
    }
   },
   "source": [
    "#### Dashboard\n",
    "The Dashboard it's the initial page and lists the files availabile in the directory and the running notebook.\n",
    "\n",
    "Please note that the scope depends on the path where the application is lanched."
   ]
  },
  {
   "cell_type": "markdown",
   "id": "7c8c7811",
   "metadata": {
    "slideshow": {
     "slide_type": "subslide"
    }
   },
   "source": [
    "![](https://user-images.githubusercontent.com/591645/229564680-3e9a9031-e925-4008-833c-a478b3e96c97.png)\n",
    "Image of the Notebook Dashboard from the Jupyter manual"
   ]
  },
  {
   "cell_type": "markdown",
   "id": "d99545e2",
   "metadata": {
    "slideshow": {
     "slide_type": "subslide"
    }
   },
   "source": [
    "#### Notebook Editor\n",
    "The editor of a notebook it's \"word\" style with a menu on top "
   ]
  },
  {
   "cell_type": "markdown",
   "id": "6539359a",
   "metadata": {
    "cell_style": "center",
    "slideshow": {
     "slide_type": "fragment"
    }
   },
   "source": [
    "![Image](images/new-notebook.gif)"
   ]
  },
  {
   "cell_type": "markdown",
   "id": "49f05fff",
   "metadata": {
    "cell_style": "center",
    "slideshow": {
     "slide_type": "subslide"
    }
   },
   "source": [
    "#### Main features"
   ]
  },
  {
   "cell_type": "markdown",
   "id": "6551b5d3",
   "metadata": {
    "cell_style": "split",
    "slideshow": {
     "slide_type": "fragment"
    }
   },
   "source": [
    "- Edit code in the browser, with automatic syntax highlighting, indentation, and tab completion/introspection."
   ]
  },
  {
   "cell_type": "markdown",
   "id": "3db6cc16",
   "metadata": {
    "cell_style": "split",
    "slideshow": {
     "slide_type": "fragment"
    }
   },
   "source": [
    "- Run code from the browser, with the results of computations attached to the code which generated them."
   ]
  },
  {
   "cell_type": "markdown",
   "id": "9853ab6b",
   "metadata": {
    "cell_style": "split",
    "slideshow": {
     "slide_type": "fragment"
    }
   },
   "source": [
    "- See the results of computations with rich media representations, such as HTML, LaTeX, PNG, SVG, PDF, etc."
   ]
  },
  {
   "cell_type": "markdown",
   "id": "82c79d93",
   "metadata": {
    "cell_style": "split",
    "slideshow": {
     "slide_type": "fragment"
    }
   },
   "source": [
    "- Create and use interactive JavaScript widgets, which bind interactive user interface controls and visualizations to reactive kernel side computations."
   ]
  },
  {
   "cell_type": "markdown",
   "id": "c7488874",
   "metadata": {
    "cell_style": "split",
    "slideshow": {
     "slide_type": "fragment"
    }
   },
   "source": [
    "- Author narrative text using the Markdown markup language."
   ]
  },
  {
   "cell_type": "markdown",
   "id": "8ce5a299",
   "metadata": {
    "cell_style": "split",
    "slideshow": {
     "slide_type": "fragment"
    }
   },
   "source": [
    "- Include mathematical equations using LaTeX syntax in Markdown, which are rendered in-browser by MathJax."
   ]
  },
  {
   "cell_type": "markdown",
   "id": "dd8c3e92",
   "metadata": {
    "slideshow": {
     "slide_type": "subslide"
    }
   },
   "source": [
    "### Kernels"
   ]
  },
  {
   "cell_type": "markdown",
   "id": "7cbae391",
   "metadata": {
    "cell_style": "split",
    "slideshow": {
     "slide_type": "fragment"
    }
   },
   "source": [
    "- Through Jupyter’s kernel and messaging architecture, the Notebook allows code to be run in a range of different programming languages. \n",
    "- For each notebook document that a user opens, the web application starts a kernel that runs the code for that notebook. \n",
    "- Each kernel is capable of running code in a single programming language and there are kernels available in the many languages\n",
    "https://github.com/jupyter/jupyter/wiki/Jupyter-kernels "
   ]
  },
  {
   "cell_type": "markdown",
   "id": "b23e76e3",
   "metadata": {
    "cell_style": "split",
    "slideshow": {
     "slide_type": "fragment"
    }
   },
   "source": [
    "![](images/ipy_kernel_and_terminal.png)"
   ]
  },
  {
   "cell_type": "markdown",
   "id": "348b59c7",
   "metadata": {
    "slideshow": {
     "slide_type": "slide"
    }
   },
   "source": [
    "# Notebook documents"
   ]
  },
  {
   "cell_type": "markdown",
   "id": "ddfe341b",
   "metadata": {
    "cell_style": "split",
    "slideshow": {
     "slide_type": "subslide"
    }
   },
   "source": [
    "Notebook documents contain the inputs and outputs of an interactive session as well as narrative text that accompanies the code but is not meant for execution. Rich output generated by running code, including HTML, images, video, and plots, is embeddeed in the notebook, which makes it a complete and self-contained record of a computation.\n"
   ]
  },
  {
   "cell_type": "markdown",
   "id": "f2314881",
   "metadata": {
    "cell_style": "split",
    "slideshow": {
     "slide_type": "fragment"
    }
   },
   "source": [
    "![](images/jupyter_cell.png)\n",
    "\n",
    "When you run the notebook web application on your computer, notebook documents are just files on your local filesystem with a ``.ipynb`` extension. This allows you to use familiar workflows for organizing your notebooks into folders and sharing them with others."
   ]
  },
  {
   "cell_type": "markdown",
   "id": "750904a2",
   "metadata": {
    "slideshow": {
     "slide_type": "subslide"
    }
   },
   "source": [
    "## Structure of a notebook document"
   ]
  },
  {
   "cell_type": "markdown",
   "id": "3f9a918e",
   "metadata": {
    "cell_style": "split",
    "slideshow": {
     "slide_type": "subslide"
    }
   },
   "source": [
    "Internally, notebook documents are \n",
    "- **JSON** <https://en.wikipedia.org/wiki/JSON> data \n",
    "- with binary values **base64**  <https://en.wikipedia.org/wiki/Base64> encoded. \n",
    "\n",
    "- This allows them to be read and manipulated programmatically by any programming language. \n",
    "\n",
    "- Because JSON is a text format, notebook documents are version control friendly."
   ]
  },
  {
   "cell_type": "markdown",
   "id": "b9bcc2d0",
   "metadata": {
    "cell_style": "split",
    "slideshow": {
     "slide_type": "fragment"
    }
   },
   "source": [
    "![](images/jupyter_json.png)"
   ]
  },
  {
   "cell_type": "markdown",
   "id": "aebdb073",
   "metadata": {
    "slideshow": {
     "slide_type": "slide"
    }
   },
   "source": [
    "## Cells"
   ]
  },
  {
   "cell_type": "markdown",
   "id": "659ef640",
   "metadata": {
    "slideshow": {
     "slide_type": "subslide"
    }
   },
   "source": [
    "Notebooks consist of a linear sequence of cells. There are three basic cell types:\n",
    "- **Code cells**: Input and output of live code that is run in the kernel\n",
    "- **Markdown cells**: Narrative text with embedded LaTeX equations\n",
    "- **Raw cells**: Unformatted text that is included, without modification, when notebooks are converted to different formats using nbconvert"
   ]
  },
  {
   "cell_type": "markdown",
   "id": "78b599cb",
   "metadata": {
    "slideshow": {
     "slide_type": "subslide"
    }
   },
   "source": [
    "### Markdown Cell\n",
    "\n",
    "> Markdown is a plain text format for writing structured documents, based on conventions for indicating formatting in email and usenet posts. It was developed by John Gruber (with help from Aaron Swartz) and released in 2004\n",
    "\n",
    "As Gruber writes:\n",
    "> The overriding design goal for Markdown’s formatting syntax is to make it as readable as possible. The idea is that a Markdown-formatted document should be publishable as-is, as plain text, without looking like it’s been marked up with tags or formatting instructions. (http://daringfireball.net/projects/markdown/)"
   ]
  },
  {
   "cell_type": "markdown",
   "id": "97fce85f",
   "metadata": {
    "slideshow": {
     "slide_type": "subslide"
    }
   },
   "source": [
    "### Markdown References\n",
    "- https://github.com/adam-p/markdown-here/wiki/Markdown-Cheatsheet\n",
    "- https://www.markdownguide.org/"
   ]
  },
  {
   "cell_type": "markdown",
   "id": "3255ad12",
   "metadata": {
    "slideshow": {
     "slide_type": "subslide"
    }
   },
   "source": [
    "### Code Cell"
   ]
  },
  {
   "cell_type": "markdown",
   "id": "83b309b5",
   "metadata": {
    "slideshow": {
     "slide_type": "fragment"
    }
   },
   "source": [
    "- Cell where it's possibile to insert code associated to kernel of the notebook (i.e. Python)\n",
    "- Code cell interact with the kernel using a protocol, i.e. the code is executed and output (if any) is printed after the cell\n",
    "- Cell code are executed in order, i.e. no other cell code is effectively executed until the previosly completed"
   ]
  },
  {
   "cell_type": "markdown",
   "id": "07d8cf3e",
   "metadata": {
    "slideshow": {
     "slide_type": "slide"
    }
   },
   "source": [
    "#### REPL\n",
    "\n",
    "![](images/repl.png)"
   ]
  },
  {
   "cell_type": "markdown",
   "id": "8494fd05",
   "metadata": {
    "cell_style": "split",
    "slideshow": {
     "slide_type": "subslide"
    }
   },
   "source": [
    "- The **read** function accepts an expression from the user, and parses it into a data structure in memory. For instance, the user may enter the s-expression (+ 1 2 3), which is parsed into a linked list containing four data elements.\n",
    "- The **eval** function takes this internal data structure and evaluates it. In Lisp, evaluating an s-expression beginning with the name of a function means calling that function on the arguments that make up the rest of the expression. So the function + is called on the arguments 1 2 3, yielding the result 6."
   ]
  },
  {
   "cell_type": "markdown",
   "id": "428ca7e1",
   "metadata": {
    "cell_style": "split",
    "slideshow": {
     "slide_type": "fragment"
    }
   },
   "source": [
    "- The **print** function takes the result yielded by eval, and prints it out to the user. If it is a complex expression, it may be pretty-printed to make it easier to understand.\n",
    "- The development environment then returns to the read state, creating a **loop**, which terminates when the program is closed.\n",
    "\n",
    "```lisp\n",
    "(define (REPL env)\n",
    "  (print (eval env (read)))\n",
    "  (REPL env) )\n",
    " ```"
   ]
  },
  {
   "cell_type": "markdown",
   "id": "d89283fd",
   "metadata": {
    "slideshow": {
     "slide_type": "subslide"
    }
   },
   "source": [
    "### Edit / Command Mode"
   ]
  },
  {
   "cell_type": "markdown",
   "id": "de1f8835",
   "metadata": {
    "slideshow": {
     "slide_type": "fragment"
    }
   },
   "source": [
    "Notebooks have two modes:"
   ]
  },
  {
   "cell_type": "markdown",
   "id": "eb09cdca",
   "metadata": {
    "cell_style": "split",
    "slideshow": {
     "slide_type": "fragment"
    }
   },
   "source": [
    "**Edit Mode (green)**\n",
    "- it's possibile to write in the cell\n",
    "- code is not immediatetely executed\n",
    "\n",
    "Some ide features (but it's not an IDE)\n",
    "- syntax highlighting\n",
    "- code completion\n"
   ]
  },
  {
   "cell_type": "markdown",
   "id": "412bc7bc",
   "metadata": {
    "cell_style": "split",
    "slideshow": {
     "slide_type": "fragment"
    }
   },
   "source": [
    "**Command Mode**: (blue): it's a \"navigation mode\", special keys to author the notebook\n",
    "\n",
    "- Basic navigation: enter, shift-enter, up/k, down/j\n",
    "- Saving the notebook: s\n",
    "- Change Cell types: y, m, 1-6, t\n",
    "- Cell creation: a, b\n",
    "- Cell editing: x, c, v, d, z\n",
    "- Kernel operations: i, 0 (press twice)"
   ]
  },
  {
   "cell_type": "markdown",
   "id": "765dc39e",
   "metadata": {
    "slideshow": {
     "slide_type": "subslide"
    }
   },
   "source": [
    "![](https://i.imgflip.com/8enqtc.jpg)\n",
    "[NicsMeme](https://i.imgflip.com/8enqtc.jpg)"
   ]
  },
  {
   "cell_type": "markdown",
   "id": "5651c783",
   "metadata": {
    "slideshow": {
     "slide_type": "subslide"
    }
   },
   "source": [
    "# Cell execution"
   ]
  },
  {
   "cell_type": "markdown",
   "id": "606486cf",
   "metadata": {
    "slideshow": {
     "slide_type": "fragment"
    }
   },
   "source": [
    "- Cells can be executed clicking on the \"Play\" icon in the toolbar, via Cell -> Run in the menu or Shift-Enter"
   ]
  },
  {
   "cell_type": "markdown",
   "id": "f9259765",
   "metadata": {
    "slideshow": {
     "slide_type": "fragment"
    }
   },
   "source": [
    "- Cells are executed in order, output appears asynchronously"
   ]
  },
  {
   "cell_type": "markdown",
   "id": "96412937",
   "metadata": {
    "slideshow": {
     "slide_type": "fragment"
    }
   },
   "source": [
    "- Markdown cells are immediately rendered "
   ]
  },
  {
   "cell_type": "markdown",
   "id": "e83122dc",
   "metadata": {
    "slideshow": {
     "slide_type": "fragment"
    }
   },
   "source": [
    "- Code cells sends the entire cell to the kerne, a [] box appers at the left with a * (waiting) and when completed  the execution order"
   ]
  },
  {
   "cell_type": "markdown",
   "id": "d1e04bea",
   "metadata": {
    "slideshow": {
     "slide_type": "subslide"
    }
   },
   "source": [
    "### Demo "
   ]
  },
  {
   "cell_type": "markdown",
   "id": "083b73bd",
   "metadata": {},
   "source": [
    "Sto facendo una stampa del numero di studenti"
   ]
  },
  {
   "cell_type": "code",
   "execution_count": 14,
   "id": "cc0efb68",
   "metadata": {
    "scrolled": true
   },
   "outputs": [
    {
     "name": "stdout",
     "output_type": "stream",
     "text": [
      "Hello World Students:20\n"
     ]
    }
   ],
   "source": [
    "a=20;\n",
    "print(\"Hello World Students:\"+str(a));"
   ]
  },
  {
   "cell_type": "markdown",
   "id": "4a3da2b7",
   "metadata": {
    "slideshow": {
     "slide_type": "slide"
    }
   },
   "source": [
    "# How to publish/share notebook ?"
   ]
  },
  {
   "cell_type": "markdown",
   "id": "eadfcacf",
   "metadata": {
    "slideshow": {
     "slide_type": "subslide"
    }
   },
   "source": [
    "### Nbviewer\n",
    "https://nbviewer.org/"
   ]
  },
  {
   "cell_type": "markdown",
   "id": "c15e971e",
   "metadata": {
    "cell_style": "split",
    "slideshow": {
     "slide_type": "fragment"
    }
   },
   "source": [
    "![](https://nbviewer.org/static/img/nav_logo.svg)"
   ]
  },
  {
   "cell_type": "markdown",
   "id": "82bb7c85",
   "metadata": {
    "cell_style": "split",
    "slideshow": {
     "slide_type": "fragment"
    }
   },
   "source": [
    "Any notebook document available from a public URL or on GitHub can be shared via nbviewer. This service loads the notebook document from the URL and renders it as a static web page. The resulting web page may thus be shared with others without their needing to install the Jupyter Notebook.\n",
    "\n",
    "Examples \n",
    "- [See this notebook using nbviewer](https://nbviewer.org/github/nicshub/sdsdbms/blob/main/Jupyter.ipynb)\n",
    "\n",
    "- Github automatically renders notebook\n",
    "[See this notebook in GitHub](https://github.com/nicshub/sdsdbms/blob/main/Jupyter.ipynb)"
   ]
  },
  {
   "cell_type": "markdown",
   "id": "4999ca9c",
   "metadata": {
    "slideshow": {
     "slide_type": "slide"
    }
   },
   "source": [
    "# Export Notebook (NB Convert)\n",
    "\n",
    "Using nbconvert enables:\n",
    "presentation of information in familiar formats, such as PDF.\n",
    "publishing of research using LaTeX and opens the door for embedding notebooks in papers.\n",
    "collaboration with others who may not use the notebook in their work.\n",
    "sharing contents with many people via the web using HTML.\n",
    "Format:\n",
    "- latex \n",
    "- pdf\n",
    "- html\n",
    "- slides\n",
    "\n",
    "https://nbconvert.readthedocs.io"
   ]
  },
  {
   "cell_type": "markdown",
   "id": "2fd1029e",
   "metadata": {
    "slideshow": {
     "slide_type": "slide"
    }
   },
   "source": [
    "### Slides"
   ]
  },
  {
   "cell_type": "markdown",
   "id": "2abf65c7",
   "metadata": {
    "slideshow": {
     "slide_type": "subslide"
    }
   },
   "source": [
    "- There are different ways to create presentation of a notebook"
   ]
  },
  {
   "cell_type": "markdown",
   "id": "870681dd",
   "metadata": {
    "slideshow": {
     "slide_type": "fragment"
    }
   },
   "source": [
    "- Each cell is \"labeled\" as Slide, Subslide or Fragment"
   ]
  },
  {
   "cell_type": "markdown",
   "id": "1129dc66",
   "metadata": {
    "slideshow": {
     "slide_type": "fragment"
    }
   },
   "source": [
    "- Typically they are based on [reveal](https://revealjs.com/)"
   ]
  },
  {
   "cell_type": "markdown",
   "id": "dfc2981f",
   "metadata": {
    "slideshow": {
     "slide_type": "fragment"
    }
   },
   "source": [
    "- [Rise](https://rise.readthedocs.io/en/latest/): it's an extension able to transform notebook in presentation inside the web application. The great advantage is that it's possibile to execute cell \"live\""
   ]
  },
  {
   "cell_type": "markdown",
   "id": "cfa0aa5c",
   "metadata": {
    "slideshow": {
     "slide_type": "fragment"
    }
   },
   "source": [
    "- [Voila](https://voila.readthedocs.io/en/stable/): Voilà allows you to convert a Jupyter Notebook into an interactive dashboard that allows you to share your work with others."
   ]
  },
  {
   "cell_type": "markdown",
   "id": "9193ad7b",
   "metadata": {
    "slideshow": {
     "slide_type": "slide"
    }
   },
   "source": [
    "# Jupyter Book\n",
    "![](https://jupyterbook.org/en/stable/_static/logo-wide.svg)"
   ]
  },
  {
   "cell_type": "markdown",
   "id": "30fcf065",
   "metadata": {
    "cell_style": "split",
    "slideshow": {
     "slide_type": "subslide"
    }
   },
   "source": [
    "## What is Jupyter Book\n",
    "https://jupyterbook.org/en/stable/intro.html"
   ]
  },
  {
   "cell_type": "markdown",
   "id": "fd7026c1",
   "metadata": {
    "cell_style": "split",
    "slideshow": {
     "slide_type": "fragment"
    }
   },
   "source": [
    "- Jupyter Book is an open source project for building beautiful, publication-quality books and documents from computational material."
   ]
  },
  {
   "cell_type": "markdown",
   "id": "18751dbe",
   "metadata": {
    "cell_style": "split",
    "slideshow": {
     "slide_type": "fragment"
    }
   },
   "source": [
    "- Define Table of Content and Meta Data"
   ]
  },
  {
   "cell_type": "markdown",
   "id": "2f51bc60",
   "metadata": {
    "cell_style": "split",
    "slideshow": {
     "slide_type": "fragment"
    }
   },
   "source": [
    "- Uses MyST Markdown: MyST makes Markdown more _extensible_ & **powerful** to support an ecosystem of tools for computational narratives, technical documentation, and open scientific communication."
   ]
  },
  {
   "cell_type": "markdown",
   "id": "39ddd5bc",
   "metadata": {
    "slideshow": {
     "slide_type": "slide"
    }
   },
   "source": [
    "# Other Jupyter Projects"
   ]
  },
  {
   "cell_type": "markdown",
   "id": "23e57975",
   "metadata": {
    "slideshow": {
     "slide_type": "fragment"
    }
   },
   "source": [
    "- [Jupyter Hub](https://jupyterhub.readthedocs.io/): Enviroment to serve notebooks to multiple users"
   ]
  },
  {
   "cell_type": "markdown",
   "id": "9a89819a",
   "metadata": {
    "slideshow": {
     "slide_type": "fragment"
    }
   },
   "source": [
    "- [JupyterLab](https://jupyterlab.readthedocs.io/en/stable/): The future of Jupyter let's  [try](https://jupyter.org/try-jupyter/lab/?path=notebooks%2FIntro.ipynb)"
   ]
  },
  {
   "cell_type": "markdown",
   "id": "43c2caa8",
   "metadata": {
    "slideshow": {
     "slide_type": "slide"
    }
   },
   "source": [
    "# Criticism to the Notebook"
   ]
  },
  {
   "cell_type": "markdown",
   "id": "7adc242e",
   "metadata": {
    "slideshow": {
     "slide_type": "fragment"
    }
   },
   "source": [
    "## I don't like notebooks \n",
    "https://docs.google.com/presentation/d/1n2RlMdmv1p25Xy5thJUhkKGvjtV-dkAIsUXP-AL4ffI/edit#slide=id.g362da58057_0_1"
   ]
  }
 ],
 "metadata": {
  "celltoolbar": "Slideshow",
  "kernelspec": {
   "display_name": "Python 3 (ipykernel)",
   "language": "python",
   "name": "python3"
  },
  "language_info": {
   "codemirror_mode": {
    "name": "ipython",
    "version": 3
   },
   "file_extension": ".py",
   "mimetype": "text/x-python",
   "name": "python",
   "nbconvert_exporter": "python",
   "pygments_lexer": "ipython3",
   "version": "3.10.12"
  },
  "rise": {
   "autolaunch": true,
   "enable_chalkboard": "true",
   "footer": "<div class=\"tswd-footer\"> *** Cloud Computing and Big Data - 2024 ***</div>",
   "header": "<div class=\"tswd-header\"></div>",
   "scroll": true,
   "theme": "white"
  }
 },
 "nbformat": 4,
 "nbformat_minor": 5
}
