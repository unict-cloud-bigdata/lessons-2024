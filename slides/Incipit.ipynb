{
 "cells": [
  {
   "cell_type": "markdown",
   "id": "d5baa989",
   "metadata": {
    "slideshow": {
     "slide_type": "slide"
    }
   },
   "source": [
    "  # CLOUD COMPUTING AND BIG DATA\n",
    "[Syllabus](https://www.dei.unict.it/corsi/lm-91/insegnamenti?seuid=E76A9A39-08E6-48ED-AEBB-2A22B8DAAF49)"
   ]
  },
  {
   "cell_type": "markdown",
   "id": "6defa2bf",
   "metadata": {
    "slideshow": {
     "slide_type": "subslide"
    }
   },
   "source": [
    "## Contact\n",
    "Unict \n",
    "\n",
    "Teams 💬 /Email 📧\n",
    "salvatore.nicotra1@unict.it\n",
    "\n",
    "[About.me](https://about.me/snicotra/)"
   ]
  },
  {
   "cell_type": "markdown",
   "id": "bf5914fd",
   "metadata": {
    "slideshow": {
     "slide_type": "slide"
    }
   },
   "source": [
    "## Methodology"
   ]
  },
  {
   "cell_type": "markdown",
   "id": "e8cd26b3",
   "metadata": {
    "slideshow": {
     "slide_type": "subslide"
    }
   },
   "source": [
    "Searching for a good way to explain..."
   ]
  },
  {
   "cell_type": "markdown",
   "id": "289fd80e",
   "metadata": {
    "slideshow": {
     "slide_type": "fragment"
    }
   },
   "source": [
    "![](https://i.kym-cdn.com/photos/images/newsfeed/001/347/561/7e2.jpg)"
   ]
  },
  {
   "cell_type": "markdown",
   "id": "47aa8567",
   "metadata": {
    "slideshow": {
     "slide_type": "subslide"
    }
   },
   "source": [
    "There will moments like this..."
   ]
  },
  {
   "cell_type": "markdown",
   "id": "5766d4c3",
   "metadata": {
    "slideshow": {
     "slide_type": "fragment"
    }
   },
   "source": [
    "![](https://i.kym-cdn.com/photos/images/newsfeed/000/415/209/3b4.png)\n",
    "\n",
    "[Source](https://knowyourmeme.com/memes/computer-reaction-faces)"
   ]
  },
  {
   "cell_type": "markdown",
   "id": "d49444e4",
   "metadata": {
    "slideshow": {
     "slide_type": "subslide"
    }
   },
   "source": [
    "In reality"
   ]
  },
  {
   "cell_type": "markdown",
   "id": "4eb2b292",
   "metadata": {
    "slideshow": {
     "slide_type": "fragment"
    }
   },
   "source": [
    "![](https://www.bestepebloggers.com/wp-content/uploads/2022/03/Ayberk-Mart.jpg)\n",
    "\n",
    "[Credits](https://www.bestepebloggers.com/find-yourself/)\n"
   ]
  },
  {
   "cell_type": "markdown",
   "id": "539e3765",
   "metadata": {
    "slideshow": {
     "slide_type": "slide"
    }
   },
   "source": [
    "# Topic"
   ]
  },
  {
   "cell_type": "markdown",
   "id": "995502b6",
   "metadata": {
    "slideshow": {
     "slide_type": "subslide"
    }
   },
   "source": [
    "## Big Data"
   ]
  },
  {
   "cell_type": "markdown",
   "id": "f2b13b9f",
   "metadata": {
    "cell_style": "split",
    "slideshow": {
     "slide_type": "subslide"
    }
   },
   "source": [
    "> “Big data is like teenage sex; everyone talks about it, nobody really knows how to do it, everyone thinks everyone else is doing it, so everyone claims they are doing it.” (Dan Ariely, American Professor)\n",
    "\n",
    "https://towardsdatascience.com/top-15-famous-data-science-quotes-f2e010b8d214"
   ]
  },
  {
   "cell_type": "markdown",
   "id": "63173e59",
   "metadata": {
    "cell_style": "split",
    "slideshow": {
     "slide_type": "fragment"
    }
   },
   "source": [
    "![](https://localiq.com/wp-content/uploads/2021/05/internet-minute-infographic.png)\n",
    "https://localiq.com/blog/what-happens-in-an-internet-minute/"
   ]
  },
  {
   "cell_type": "markdown",
   "id": "f41b73b3",
   "metadata": {
    "slideshow": {
     "slide_type": "subslide"
    }
   },
   "source": [
    "## Hadoop"
   ]
  },
  {
   "cell_type": "markdown",
   "id": "d918a690",
   "metadata": {
    "cell_style": "split",
    "slideshow": {
     "slide_type": "subslide"
    }
   },
   "source": [
    ">Hadoop was created by Doug Cutting, the creator of Apache Lucene, the widely used text search library. Hadoop has its origins in Apache Nutch, an open source web search engine, itself a part of the Lucene project.\n",
    "...\n",
    "Building a web search engine from scratch was an ambitious goal, ...\n",
    "It’s expensive, too: Mike Cafarella and Doug Cutting estimated a system supporting a onebillion-page index would cost around 500,000 in hardware, with a monthly running cost of 30,000.\n",
    "\n",
    "A Brief History of Apache Hadoop, Hadoop the Definitive Guide, Tom White"
   ]
  },
  {
   "cell_type": "markdown",
   "id": "b837d5dc",
   "metadata": {
    "cell_style": "split",
    "slideshow": {
     "slide_type": "fragment"
    }
   },
   "source": [
    "\n",
    "![](https://pbs.twimg.com/media/BisIZlYCUAEJ-fv?format=png)\n",
    "https://twitter.com/hadoopmemes/status/444458224058523648"
   ]
  },
  {
   "cell_type": "markdown",
   "id": "122006f5",
   "metadata": {
    "cell_style": "center",
    "slideshow": {
     "slide_type": "subslide"
    }
   },
   "source": [
    "## Notebook (Literate Programming)"
   ]
  },
  {
   "cell_type": "markdown",
   "id": "50335956",
   "metadata": {
    "cell_style": "split",
    "slideshow": {
     "slide_type": "subslide"
    }
   },
   "source": [
    "> Literate programming: Instead of imagining that our main task is to instruct a computer what to do, let us concentrate rather on explaining to human beings what we want a computer to do.\n",
    "\n",
    "Donald Knuth (1984)"
   ]
  },
  {
   "cell_type": "markdown",
   "id": "cfec145e",
   "metadata": {
    "cell_style": "split",
    "slideshow": {
     "slide_type": "fragment"
    }
   },
   "source": [
    "![](https://raw.githubusercontent.com/tapunict/tap2022/fda4d6bfafa1f6bc967ee1cd4f4d9260aa86d0f4/book/images/knuth-vs-mcilroy.png)\n",
    "Source: https://catonmat.net/knuth-vs-mcilroy"
   ]
  },
  {
   "cell_type": "markdown",
   "id": "92e64000",
   "metadata": {
    "cell_style": "center",
    "slideshow": {
     "slide_type": "subslide"
    }
   },
   "source": [
    "## Spark"
   ]
  },
  {
   "cell_type": "markdown",
   "id": "1b147cb4",
   "metadata": {
    "cell_style": "split",
    "slideshow": {
     "slide_type": "fragment"
    }
   },
   "source": [
    "Apache Spark™ is a unified analytics engine for large-scale data processing.\n",
    "\n",
    "https://spark.apache.org/"
   ]
  },
  {
   "cell_type": "markdown",
   "id": "8525f300",
   "metadata": {
    "cell_style": "split",
    "slideshow": {
     "slide_type": "fragment"
    }
   },
   "source": [
    "![](https://i.imgflip.com/7dcyqm.jpg)\n",
    "[NicsMeme](https://imgflip.com/i/7dcyqm)"
   ]
  },
  {
   "cell_type": "markdown",
   "id": "a165b06c",
   "metadata": {
    "cell_style": "center",
    "slideshow": {
     "slide_type": "subslide"
    }
   },
   "source": [
    "## Data (Base|Warehouses|Lakes) "
   ]
  },
  {
   "cell_type": "markdown",
   "id": "1f3f1316",
   "metadata": {
    "cell_style": "split",
    "slideshow": {
     "slide_type": "fragment"
    }
   },
   "source": [
    "> A data lake is a system or repository of data stored in its natural/raw format, usually object blobs or files. \n",
    "A data lake is usually a single store of data including raw copies of source system data, sensor data, social data etc.,and transformed data used for tasks such as reporting, visualization, advanced analytics and machine learning. \n",
    "\n",
    "https://en.wikipedia.org/wiki/Data_lake"
   ]
  },
  {
   "cell_type": "markdown",
   "id": "daf75cb1",
   "metadata": {
    "cell_style": "split",
    "slideshow": {
     "slide_type": "fragment"
    }
   },
   "source": [
    "![](https://www.meme-arsenal.com/memes/1ea9b2c25e26f10b77b02b5ec04b637c.jpg)\n",
    "https://meme-arsenal.com/create/meme/7205499"
   ]
  },
  {
   "cell_type": "markdown",
   "id": "1d5f46dc",
   "metadata": {
    "slideshow": {
     "slide_type": "subslide"
    }
   },
   "source": [
    "## Modern Data Platform (Data Catalogs)"
   ]
  },
  {
   "cell_type": "markdown",
   "id": "540a2347",
   "metadata": {
    "cell_style": "split",
    "slideshow": {
     "slide_type": "fragment"
    }
   },
   "source": [
    "> A few years ago, data would primarily be consumed by the IT team in an organization. However, today data teams are more diverse than ever — data engineers, analysts, analytics engineers, data scientists, product managers, business analysts, citizen data scientists, and more. Each of these people have their own favorite and equally diverse data tools, everything from SQL, Looker, and Jupyter to Python, Tableau, dbt, and R.\n",
    "\n",
    "https://towardsdatascience.com/data-catalog-3-0-modern-metadata-for-the-modern-data-stack-ec621f593dcf"
   ]
  },
  {
   "cell_type": "markdown",
   "id": "8d60d7c1",
   "metadata": {
    "cell_style": "split",
    "slideshow": {
     "slide_type": "fragment"
    }
   },
   "source": [
    "![](https://pbs.twimg.com/media/FlyptSxXoAARxRp.jpg)\n",
    "\n",
    "https://twitter.com/castordoc_data"
   ]
  },
  {
   "cell_type": "markdown",
   "id": "fe38f50b",
   "metadata": {
    "slideshow": {
     "slide_type": "slide"
    }
   },
   "source": [
    "# Tools"
   ]
  },
  {
   "cell_type": "markdown",
   "id": "1b9eddbc",
   "metadata": {
    "slideshow": {
     "slide_type": "subslide"
    }
   },
   "source": [
    "## Teams\n",
    "[CCBD 2024](https://teams.microsoft.com/l/team/19%3Aa-lbn6HLiHxVBsnBidgdEPozJavMuoqnxO95Kg0z7Kc1%40thread.tacv2/conversations?groupId=c449aa00-408e-46b1-b27b-c60695ab08ce&tenantId=baeefbc8-3c8b-4382-9126-e86bfef46ce6)\n",
    "![](https://upload.wikimedia.org/wikipedia/commons/thumb/c/c9/Microsoft_Office_Teams_%282018%E2%80%93present%29.svg/258px-Microsoft_Office_Teams_%282018%E2%80%93present%29.svg.png)\n"
   ]
  },
  {
   "cell_type": "markdown",
   "id": "adfc3665",
   "metadata": {
    "slideshow": {
     "slide_type": "subslide"
    }
   },
   "source": [
    "## Github Organization\n",
    "\n",
    "https://github.com/unict-cloud-bigdata\n",
    "\n",
    "![github](https://upload.wikimedia.org/wikipedia/commons/thumb/c/c2/GitHub_Invertocat_Logo.svg/300px-GitHub_Invertocat_Logo.svg.png?20230417032619)\n",
    "\n"
   ]
  },
  {
   "cell_type": "markdown",
   "id": "a441e92a",
   "metadata": {
    "slideshow": {
     "slide_type": "subslide"
    }
   },
   "source": [
    "## Google Cloud\n",
    "https://cloud.google.com/"
   ]
  },
  {
   "cell_type": "markdown",
   "id": "aa90ad92",
   "metadata": {
    "slideshow": {
     "slide_type": "subslide"
    }
   },
   "source": [
    "## Miro\n",
    "\n",
    "https://miro.com/"
   ]
  },
  {
   "cell_type": "markdown",
   "id": "e7866c86",
   "metadata": {
    "slideshow": {
     "slide_type": "subslide"
    }
   },
   "source": [
    "## Data Bricks"
   ]
  },
  {
   "cell_type": "markdown",
   "id": "12aeb1e3",
   "metadata": {
    "slideshow": {
     "slide_type": "fragment"
    }
   },
   "source": [
    "https://www.databricks.com/"
   ]
  }
 ],
 "metadata": {
  "celltoolbar": "Slideshow",
  "kernelspec": {
   "display_name": "Python 3 (ipykernel)",
   "language": "python",
   "name": "python3"
  },
  "language_info": {
   "codemirror_mode": {
    "name": "ipython",
    "version": 3
   },
   "file_extension": ".py",
   "mimetype": "text/x-python",
   "name": "python",
   "nbconvert_exporter": "python",
   "pygments_lexer": "ipython3",
   "version": "3.10.12"
  },
  "rise": {
   "autolaunch": true,
   "enable_chalkboard": "true",
   "footer": "<div class=\"tswd-footer\"> *** Cloud Computing and Big Data - 2024 ***</div>",
   "header": "<div class=\"tswd-header\"></div>",
   "scroll": true,
   "theme": "white"
  }
 },
 "nbformat": 4,
 "nbformat_minor": 5
}
